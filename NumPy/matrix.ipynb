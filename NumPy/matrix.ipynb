{
 "cells": [
  {
   "cell_type": "code",
   "execution_count": 1,
   "id": "15f26e40-5189-4dc4-8d01-152cc77b0b62",
   "metadata": {},
   "outputs": [
    {
     "name": "stdout",
     "output_type": "stream",
     "text": [
      "[[2 4]\n",
      " [2 4]]\n",
      "[[0 0]\n",
      " [0 0]]\n",
      "[[3 6]\n",
      " [3 6]]\n",
      "<class 'numpy.matrix'>\n"
     ]
    }
   ],
   "source": [
    "import numpy as np\n",
    "var = np.matrix([[1,2],[1,2]])\n",
    "var1 = np.matrix([[1,2],[1,2]])\n",
    "print(var + var1)\n",
    "print(var - var1)\n",
    "print(var.dot(var1))\n",
    "print(type(var))"
   ]
  },
  {
   "cell_type": "code",
   "execution_count": 4,
   "id": "1a68a272-f2a4-4181-9293-b10085ae1ac4",
   "metadata": {},
   "outputs": [
    {
     "name": "stdout",
     "output_type": "stream",
     "text": [
      "[[1 2 3]\n",
      " [4 5 6]]\n",
      "\n",
      "[[1 4]\n",
      " [2 5]\n",
      " [3 6]]\n",
      "\n",
      "[[1 4]\n",
      " [2 5]\n",
      " [3 6]]\n",
      "\n",
      "[[1 4]\n",
      " [2 5]\n",
      " [3 6]]\n"
     ]
    }
   ],
   "source": [
    "x = np.matrix([[1,2,3],[4,5,6]])\n",
    "print(x)\n",
    "print()\n",
    "print(np.transpose(x))\n",
    "print()\n",
    "print(x.T)\n",
    "print()\n",
    "print(np.swapaxes(x,0,1))"
   ]
  },
  {
   "cell_type": "code",
   "execution_count": 5,
   "id": "8e6754cc-538b-4aea-8abe-4558909596e1",
   "metadata": {},
   "outputs": [
    {
     "name": "stdout",
     "output_type": "stream",
     "text": [
      "[[1 2]\n",
      " [3 4]]\n",
      "\n",
      "[[1 3]\n",
      " [2 4]]\n"
     ]
    }
   ],
   "source": [
    "var2 = np.matrix([[1,2],[3,4]])\n",
    "print(var2)\n",
    "print()\n",
    "print(np.swapaxes(var2,0,1))"
   ]
  },
  {
   "cell_type": "code",
   "execution_count": 6,
   "id": "a818ba62-0170-4e35-ad87-6c9ab8d67279",
   "metadata": {},
   "outputs": [
    {
     "name": "stdout",
     "output_type": "stream",
     "text": [
      "[[1 2]\n",
      " [3 4]]\n",
      "\n",
      "[[ 7 10]\n",
      " [15 22]]\n",
      "\n",
      "[[1 0]\n",
      " [0 1]]\n",
      "\n",
      "[[ 5.5  -2.5 ]\n",
      " [-3.75  1.75]]\n",
      "\n"
     ]
    }
   ],
   "source": [
    "var4 = np.matrix ([[1,2],[3,4]])\n",
    "print(var4)\n",
    "print()\n",
    "print(np.linalg.matrix_power(var4,2))\n",
    "print()\n",
    "print(np.linalg.matrix_power(var4,0))\n",
    "print()\n",
    "print(np.linalg.matrix_power(var4,-2))\n",
    "print()"
   ]
  },
  {
   "cell_type": "code",
   "execution_count": 7,
   "id": "bfcf5d01-0529-44b3-9b64-f2e9520ead55",
   "metadata": {},
   "outputs": [
    {
     "name": "stdout",
     "output_type": "stream",
     "text": [
      "[[1 2]\n",
      " [3 4]]\n",
      "\n",
      "-2.0000000000000004\n"
     ]
    }
   ],
   "source": [
    "var5 = np.matrix([[1,2],[3,4]])\n",
    "print(var5)\n",
    "print()\n",
    "print(np.linalg.det(var5))"
   ]
  },
  {
   "cell_type": "code",
   "execution_count": 8,
   "id": "3aa46a18-4fc5-49a5-9f9b-a08f67efecc6",
   "metadata": {},
   "outputs": [
    {
     "name": "stdout",
     "output_type": "stream",
     "text": [
      "[[1 2 3]\n",
      " [3 4 3]\n",
      " [1 2 3]]\n",
      "\n",
      "0.0\n"
     ]
    }
   ],
   "source": [
    "var6 = np.matrix([[1,2,3],[3,4,3],[1,2,3]])\n",
    "print(var6)\n",
    "print()\n",
    "print(np.linalg.det(var6))"
   ]
  },
  {
   "cell_type": "code",
   "execution_count": null,
   "id": "7c4237e9-c242-4d2d-8cc9-dc667040a79b",
   "metadata": {},
   "outputs": [],
   "source": []
  }
 ],
 "metadata": {
  "kernelspec": {
   "display_name": "Python 3 (ipykernel)",
   "language": "python",
   "name": "python3"
  },
  "language_info": {
   "codemirror_mode": {
    "name": "ipython",
    "version": 3
   },
   "file_extension": ".py",
   "mimetype": "text/x-python",
   "name": "python",
   "nbconvert_exporter": "python",
   "pygments_lexer": "ipython3",
   "version": "3.10.6"
  }
 },
 "nbformat": 4,
 "nbformat_minor": 5
}
