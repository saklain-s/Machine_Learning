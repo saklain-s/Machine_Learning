{
 "cells": [
  {
   "cell_type": "code",
   "execution_count": 1,
   "id": "15a1ef1b-6de9-45b1-a299-8bf3da53b7d7",
   "metadata": {},
   "outputs": [
    {
     "name": "stdout",
     "output_type": "stream",
     "text": [
      "int32\n"
     ]
    }
   ],
   "source": [
    "import numpy as np\n",
    "var=np.array([1,2,3,4])\n",
    "print(var.dtype)"
   ]
  },
  {
   "cell_type": "code",
   "execution_count": 2,
   "id": "db3826ab-70f8-4913-b205-ac2cafdeb358",
   "metadata": {},
   "outputs": [
    {
     "name": "stdout",
     "output_type": "stream",
     "text": [
      "float64\n"
     ]
    }
   ],
   "source": [
    "var=np.array([1.0,2.0,3.0,4.0])\n",
    "print(var.dtype)"
   ]
  },
  {
   "cell_type": "code",
   "execution_count": 3,
   "id": "04c8db04-bd38-46ca-9449-eda4288d5b8d",
   "metadata": {},
   "outputs": [
    {
     "name": "stdout",
     "output_type": "stream",
     "text": [
      "<U1\n"
     ]
    }
   ],
   "source": [
    "var=np.array([\"a\",\"b\",\"g\",\"f\"])\n",
    "print(var.dtype)"
   ]
  },
  {
   "cell_type": "code",
   "execution_count": 4,
   "id": "6ec4a265-12bf-4d71-b471-29160dd56552",
   "metadata": {},
   "outputs": [
    {
     "name": "stdout",
     "output_type": "stream",
     "text": [
      "<U32\n"
     ]
    }
   ],
   "source": [
    "var=np.array([\"a\",\"b\",\"g\",\"f\",1.0,2.0,3.0,4.0])\n",
    "print(var.dtype)"
   ]
  },
  {
   "cell_type": "code",
   "execution_count": 5,
   "id": "08f13bc2-88e5-4f07-a556-86eedbd1e99c",
   "metadata": {},
   "outputs": [
    {
     "name": "stdout",
     "output_type": "stream",
     "text": [
      "<U11\n"
     ]
    }
   ],
   "source": [
    "var=np.array([\"a\",\"b\",\"g\",\"f\",1,2,3,4])\n",
    "print(var.dtype)"
   ]
  },
  {
   "cell_type": "code",
   "execution_count": 14,
   "id": "a225a486-8278-44ee-915b-8fec8248471d",
   "metadata": {},
   "outputs": [
    {
     "name": "stdout",
     "output_type": "stream",
     "text": [
      "float32 \n",
      " [1. 2. 3. 4.]\n",
      "[1. 2. 3. 4.]\n"
     ]
    }
   ],
   "source": [
    "var=np.array([1,2,3,4],dtype=\"f\")\n",
    "print(var.dtype,\"\\n\",var)\n",
    "print(var)"
   ]
  },
  {
   "cell_type": "code",
   "execution_count": 15,
   "id": "482886b9-a4d0-41cb-863f-a868796ff3c9",
   "metadata": {},
   "outputs": [
    {
     "name": "stdout",
     "output_type": "stream",
     "text": [
      "int32\n",
      "float32\n",
      "[1 2 3 4]\n",
      "[1. 2. 3. 4.]\n"
     ]
    }
   ],
   "source": [
    "x = np.array([1,2,3,4])\n",
    "nw = np.float32(x)\n",
    "print(x.dtype)\n",
    "print(nw.dtype)\n",
    "print(x)\n",
    "print(nw)"
   ]
  },
  {
   "cell_type": "code",
   "execution_count": 17,
   "id": "7435489d-ad5f-4712-b2c5-e74e9f9066bd",
   "metadata": {},
   "outputs": [
    {
     "name": "stdout",
     "output_type": "stream",
     "text": [
      "[1 2 3 4]\n"
     ]
    }
   ],
   "source": [
    "nw2 = np.int32(nw)\n",
    "print(nw2)"
   ]
  },
  {
   "cell_type": "code",
   "execution_count": 18,
   "id": "429a2f61-758b-43ef-91b7-6f074a2addcd",
   "metadata": {},
   "outputs": [
    {
     "name": "stdout",
     "output_type": "stream",
     "text": [
      "[1 2 3 4]\n",
      "[1. 2. 3. 4.]\n"
     ]
    }
   ],
   "source": [
    "x3 = np.array([1,2,3,4])\n",
    "nw3 = x3.astype(float)\n",
    "print(x3)\n",
    "print(nw3)"
   ]
  },
  {
   "cell_type": "code",
   "execution_count": null,
   "id": "01b1dfa5-976a-4b1c-8d25-c1c8d51d06b4",
   "metadata": {},
   "outputs": [],
   "source": []
  }
 ],
 "metadata": {
  "kernelspec": {
   "display_name": "Python 3 (ipykernel)",
   "language": "python",
   "name": "python3"
  },
  "language_info": {
   "codemirror_mode": {
    "name": "ipython",
    "version": 3
   },
   "file_extension": ".py",
   "mimetype": "text/x-python",
   "name": "python",
   "nbconvert_exporter": "python",
   "pygments_lexer": "ipython3",
   "version": "3.10.6"
  }
 },
 "nbformat": 4,
 "nbformat_minor": 5
}
