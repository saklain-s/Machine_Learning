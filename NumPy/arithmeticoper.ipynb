{
 "cells": [
  {
   "cell_type": "code",
   "execution_count": 1,
   "id": "32c1f521-dfb6-42f7-a5f7-555715cf3200",
   "metadata": {},
   "outputs": [
    {
     "name": "stdout",
     "output_type": "stream",
     "text": [
      "[4 5 6 7]\n"
     ]
    }
   ],
   "source": [
    "import numpy as np\n",
    "var = np.array([1,2,3,4])\n",
    "varadd = var+3\n",
    "print(varadd)"
   ]
  },
  {
   "cell_type": "code",
   "execution_count": 2,
   "id": "3698c1c7-b1e1-4983-ac95-c8d884c4dcaa",
   "metadata": {},
   "outputs": [
    {
     "name": "stdout",
     "output_type": "stream",
     "text": [
      "[2 4 6 8]\n",
      "[2 4 6 8]\n"
     ]
    }
   ],
   "source": [
    "var = np.array([1,2,3,4])\n",
    "var1 = np.array([1,2,3,4])\n",
    "varad=var+var1\n",
    "print(varad)\n",
    "print(var1+var)"
   ]
  },
  {
   "cell_type": "code",
   "execution_count": 4,
   "id": "617e71c7-db2a-4f75-b373-0462028988aa",
   "metadata": {},
   "outputs": [
    {
     "name": "stdout",
     "output_type": "stream",
     "text": [
      "[-2 -1  0  1]\n"
     ]
    }
   ],
   "source": [
    "var = np.array([1,2,3,4])\n",
    "varsub = var-3\n",
    "print(varsub)"
   ]
  },
  {
   "cell_type": "code",
   "execution_count": 5,
   "id": "7233b1f3-5ee0-49b2-8593-4ed97b86bbc7",
   "metadata": {},
   "outputs": [
    {
     "name": "stdout",
     "output_type": "stream",
     "text": [
      "[ 3  6  9 12]\n"
     ]
    }
   ],
   "source": [
    "var = np.array([1,2,3,4])\n",
    "varmul = var*3\n",
    "print(varmul)"
   ]
  },
  {
   "cell_type": "code",
   "execution_count": 6,
   "id": "6744b63d-5671-4643-9e25-5bbf100c68bf",
   "metadata": {},
   "outputs": [
    {
     "name": "stdout",
     "output_type": "stream",
     "text": [
      "[0.33333333 0.66666667 1.         1.33333333]\n"
     ]
    }
   ],
   "source": [
    "var = np.array([1,2,3,4])\n",
    "vardiv = var/3\n",
    "print(vardiv)"
   ]
  },
  {
   "cell_type": "code",
   "execution_count": 7,
   "id": "221ec076-0de2-4149-943c-c2286d648248",
   "metadata": {},
   "outputs": [
    {
     "name": "stdout",
     "output_type": "stream",
     "text": [
      "[1 2 0 1]\n"
     ]
    }
   ],
   "source": [
    "var = np.array([1,2,3,4])\n",
    "vardiv = var%3\n",
    "print(vardiv)"
   ]
  },
  {
   "cell_type": "code",
   "execution_count": 9,
   "id": "a8e5ec97-6e88-4267-8fa3-af20e5f11939",
   "metadata": {},
   "outputs": [
    {
     "name": "stdout",
     "output_type": "stream",
     "text": [
      "var: [1 2 3 4]\n",
      "var1: [1 2 3 4]\n",
      "varadd: [2 4 6 8]\n",
      "varsub: [0 0 0 0]\n",
      "varmul: [ 1  4  9 16]\n",
      "varmod: [0 0 0 0]\n",
      "varpw: [  1   4  27 256]\n",
      "varrec: [1 0 0 0]\n"
     ]
    }
   ],
   "source": [
    "import numpy as np\n",
    "\n",
    "var = np.array([1, 2, 3, 4])\n",
    "var1 = np.array([1, 2, 3, 4])\n",
    "\n",
    "varadd = np.add(var, var1)\n",
    "varsub = np.subtract(var, var1)\n",
    "varmul = np.multiply(var, var1)\n",
    "varmod = np.mod(var, var1)\n",
    "varpw = np.power(var, var1)\n",
    "varrec = np.reciprocal(var1)  \n",
    "\n",
    "print(\"var:\", var)\n",
    "print(\"var1:\", var1)\n",
    "print(\"varadd:\", varadd)\n",
    "print(\"varsub:\", varsub)\n",
    "print(\"varmul:\", varmul)\n",
    "print(\"varmod:\", varmod)\n",
    "print(\"varpw:\", varpw)\n",
    "print(\"varrec:\", varrec)\n"
   ]
  },
  {
   "cell_type": "code",
   "execution_count": null,
   "id": "5600f90c-cdcc-4f20-901f-7cbb738ce31e",
   "metadata": {},
   "outputs": [],
   "source": []
  }
 ],
 "metadata": {
  "kernelspec": {
   "display_name": "Python 3 (ipykernel)",
   "language": "python",
   "name": "python3"
  },
  "language_info": {
   "codemirror_mode": {
    "name": "ipython",
    "version": 3
   },
   "file_extension": ".py",
   "mimetype": "text/x-python",
   "name": "python",
   "nbconvert_exporter": "python",
   "pygments_lexer": "ipython3",
   "version": "3.10.6"
  }
 },
 "nbformat": 4,
 "nbformat_minor": 5
}
