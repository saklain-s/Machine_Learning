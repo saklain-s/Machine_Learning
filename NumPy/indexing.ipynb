{
 "cells": [
  {
   "cell_type": "code",
   "execution_count": 2,
   "id": "9c04d03c-87f9-43d0-a34a-cf0ce6085317",
   "metadata": {},
   "outputs": [
    {
     "name": "stdout",
     "output_type": "stream",
     "text": [
      "2\n",
      "2\n"
     ]
    }
   ],
   "source": [
    "import numpy as np\n",
    "var = np.array([1,2,3,4])\n",
    "print(var[1])\n",
    "print(var[-3])"
   ]
  },
  {
   "cell_type": "code",
   "execution_count": 2,
   "id": "93889009-6327-4a4d-80ad-804e4c284628",
   "metadata": {},
   "outputs": [
    {
     "name": "stdout",
     "output_type": "stream",
     "text": [
      "[[ 8  9 10 11]\n",
      " [ 2  5  6  4]]\n",
      "\n",
      "10\n",
      "2\n"
     ]
    }
   ],
   "source": [
    "var = np.array([[8,9,10,11,],[2,5,6,4]])\n",
    "print(var)\n",
    "print()\n",
    "print(var[0,2])\n",
    "print(var[1,0])"
   ]
  },
  {
   "cell_type": "code",
   "execution_count": 7,
   "id": "7b31dc12-8630-4f4d-aba4-719d1408a3c6",
   "metadata": {},
   "outputs": [
    {
     "name": "stdout",
     "output_type": "stream",
     "text": [
      "[[[1 2 3]\n",
      "  [4 5 6]\n",
      "  [7 8 9]]]\n",
      "3\n",
      "7\n"
     ]
    }
   ],
   "source": [
    "\n",
    "var = np.array([[[1,2,3],[4,5,6],[7,8,9]]])\n",
    "\n",
    "print(var)\n",
    "print(var.ndim)\n",
    "print(var[0,2,0])"
   ]
  },
  {
   "cell_type": "code",
   "execution_count": 3,
   "id": "9b823ab6-f577-478e-94ab-20ebbc1ad884",
   "metadata": {},
   "outputs": [
    {
     "name": "stdout",
     "output_type": "stream",
     "text": [
      "[[[ 1  2  3]\n",
      "  [ 4  5  6]]\n",
      "\n",
      " [[ 7  8  9]\n",
      "  [10 11 12]]]\n",
      "3\n",
      "4\n",
      "12\n"
     ]
    }
   ],
   "source": [
    "\n",
    "var = np.array([[[1, 2, 3], [4, 5, 6]], [[7, 8, 9], [10, 11, 12]]])\n",
    "\n",
    "\n",
    "print(var)\n",
    "print(var.ndim)\n",
    "print(var[0,1,0])\n",
    "print(var[1,1,2])"
   ]
  },
  {
   "cell_type": "code",
   "execution_count": null,
   "id": "fd4ed83e-e2c3-4f98-baeb-217e175e2559",
   "metadata": {},
   "outputs": [],
   "source": []
  }
 ],
 "metadata": {
  "kernelspec": {
   "display_name": "Python 3 (ipykernel)",
   "language": "python",
   "name": "python3"
  },
  "language_info": {
   "codemirror_mode": {
    "name": "ipython",
    "version": 3
   },
   "file_extension": ".py",
   "mimetype": "text/x-python",
   "name": "python",
   "nbconvert_exporter": "python",
   "pygments_lexer": "ipython3",
   "version": "3.10.6"
  }
 },
 "nbformat": 4,
 "nbformat_minor": 5
}
