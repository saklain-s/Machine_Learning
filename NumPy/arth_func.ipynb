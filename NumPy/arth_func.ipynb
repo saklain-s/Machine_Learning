{
 "cells": [
  {
   "cell_type": "code",
   "execution_count": 2,
   "id": "212ddc4e-b40d-423e-b891-4a3b2a26a8ef",
   "metadata": {},
   "outputs": [
    {
     "name": "stdout",
     "output_type": "stream",
     "text": [
      "MIN :  1\n",
      "Max :  5\n",
      "MIN with index:  0\n",
      "Max with index:  4\n"
     ]
    }
   ],
   "source": [
    "import numpy as np\n",
    "var = np.array([1,2,3,4,5,3,2])\n",
    "print(\"MIN : \", np.min(var))\n",
    "print(\"Max : \", np.max(var))\n",
    "print(\"MIN with index: \", np.argmin(var))\n",
    "print(\"Max with index: \", np.argmax(var))"
   ]
  },
  {
   "cell_type": "code",
   "execution_count": 3,
   "id": "88850f4e-fb93-4f4e-ae19-e1c5f81e2b40",
   "metadata": {},
   "outputs": [
    {
     "name": "stdout",
     "output_type": "stream",
     "text": [
      "[2 1 3]\n",
      "[1 5]\n"
     ]
    }
   ],
   "source": [
    "var1 = np.array([[2,1,3],[9,5,6]])\n",
    "print(np.min(var1,axis=0))#row wise\n",
    "print(np.min(var1,axis=1))#column wise"
   ]
  },
  {
   "cell_type": "code",
   "execution_count": 4,
   "id": "35cedcfa-6d01-4c21-839c-6e15d537f522",
   "metadata": {},
   "outputs": [
    {
     "name": "stdout",
     "output_type": "stream",
     "text": [
      "square [1.         1.41421356 1.73205081 2.         2.23606798 1.73205081\n",
      " 1.41421356]\n"
     ]
    }
   ],
   "source": [
    "var = np.array([1,2,3,4,5,3,2])\n",
    "print(\"square\", np.sqrt(var))\n"
   ]
  },
  {
   "cell_type": "code",
   "execution_count": 5,
   "id": "0ed045e2-bff4-44d7-958d-c6b04c45db8a",
   "metadata": {},
   "outputs": [
    {
     "name": "stdout",
     "output_type": "stream",
     "text": [
      "[0.84147098 0.90929743 0.14112001]\n",
      "[ 0.54030231 -0.41614684 -0.9899925 ]\n"
     ]
    }
   ],
   "source": [
    "var = np.array([1,2,3])\n",
    "print(np.sin(var))\n",
    "print(np.cos(var))"
   ]
  },
  {
   "cell_type": "code",
   "execution_count": 6,
   "id": "db98c72f-e237-4eab-bf60-50aa6aaeeced",
   "metadata": {},
   "outputs": [
    {
     "name": "stdout",
     "output_type": "stream",
     "text": [
      "[1 3 6]\n"
     ]
    }
   ],
   "source": [
    "var = np.array([1,2,3])\n",
    "print(np.cumsum(var))"
   ]
  },
  {
   "cell_type": "code",
   "execution_count": 7,
   "id": "b25ae28b-7fc1-4439-aed4-f1000d00f084",
   "metadata": {},
   "outputs": [
    {
     "name": "stdout",
     "output_type": "stream",
     "text": [
      "[ 1  3  6 10]\n"
     ]
    }
   ],
   "source": [
    "var = np.array([1,2,3,4])\n",
    "print(np.cumsum(var))"
   ]
  },
  {
   "cell_type": "code",
   "execution_count": null,
   "id": "89006b4a-b89f-4b12-a876-78aac8fd9c85",
   "metadata": {},
   "outputs": [],
   "source": []
  }
 ],
 "metadata": {
  "kernelspec": {
   "display_name": "Python 3 (ipykernel)",
   "language": "python",
   "name": "python3"
  },
  "language_info": {
   "codemirror_mode": {
    "name": "ipython",
    "version": 3
   },
   "file_extension": ".py",
   "mimetype": "text/x-python",
   "name": "python",
   "nbconvert_exporter": "python",
   "pygments_lexer": "ipython3",
   "version": "3.10.6"
  }
 },
 "nbformat": 4,
 "nbformat_minor": 5
}
