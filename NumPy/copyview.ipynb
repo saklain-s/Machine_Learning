{
 "cells": [
  {
   "cell_type": "code",
   "execution_count": 9,
   "id": "15f26e40-5189-4dc4-8d01-152cc77b0b62",
   "metadata": {},
   "outputs": [
    {
     "name": "stdout",
     "output_type": "stream",
     "text": [
      "[  1 234   3   4]\n",
      "[1 2 3 4]\n"
     ]
    }
   ],
   "source": [
    "import numpy as np\n",
    "var = np.array([1,2,3,4])\n",
    "co = var.copy()\n",
    "var[1]=234\n",
    "print(var)\n",
    "print(co)"
   ]
  },
  {
   "cell_type": "code",
   "execution_count": 7,
   "id": "9af59ce5-4b7f-493f-adf3-bceed475a7ba",
   "metadata": {},
   "outputs": [
    {
     "name": "stdout",
     "output_type": "stream",
     "text": [
      "[ 1 23  3  4]\n",
      "<built-in method view of numpy.ndarray object at 0x000001FA5C2938D0>\n"
     ]
    }
   ],
   "source": [
    "import numpy as np\n",
    "var1 = np.array([1,2,3,4])\n",
    "vi = var.view\n",
    "print(var)\n",
    "var1 [1]=23\n",
    "print(vi)"
   ]
  },
  {
   "cell_type": "code",
   "execution_count": null,
   "id": "b2261e7f-3f3f-4fd3-ab10-9bb9fc1b1cf3",
   "metadata": {},
   "outputs": [],
   "source": []
  },
  {
   "cell_type": "code",
   "execution_count": null,
   "id": "20ceadd3-12c3-477b-a5ad-c596168ef0bd",
   "metadata": {},
   "outputs": [],
   "source": []
  },
  {
   "cell_type": "code",
   "execution_count": null,
   "id": "53d46f92-f314-4fbb-9551-45b857e66612",
   "metadata": {},
   "outputs": [],
   "source": []
  }
 ],
 "metadata": {
  "kernelspec": {
   "display_name": "Python 3 (ipykernel)",
   "language": "python",
   "name": "python3"
  },
  "language_info": {
   "codemirror_mode": {
    "name": "ipython",
    "version": 3
   },
   "file_extension": ".py",
   "mimetype": "text/x-python",
   "name": "python",
   "nbconvert_exporter": "python",
   "pygments_lexer": "ipython3",
   "version": "3.10.6"
  }
 },
 "nbformat": 4,
 "nbformat_minor": 5
}
