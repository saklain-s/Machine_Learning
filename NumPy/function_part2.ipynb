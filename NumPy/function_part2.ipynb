{
 "cells": [
  {
   "cell_type": "code",
   "execution_count": 2,
   "id": "3afc8403-d438-4425-b609-046bb68cceb1",
   "metadata": {},
   "outputs": [
    {
     "name": "stdout",
     "output_type": "stream",
     "text": [
      "(array([1, 2, 3, 4, 5]), array([0, 1, 2, 3, 4], dtype=int64))\n"
     ]
    }
   ],
   "source": [
    "import numpy as np\n",
    "var = np.array([1,2,3,4,5])\n",
    "x = np.unique(var,return_index=True)\n",
    "print(x)"
   ]
  },
  {
   "cell_type": "code",
   "execution_count": 3,
   "id": "d34f9d2c-5152-4dd1-812e-20189198e19a",
   "metadata": {},
   "outputs": [
    {
     "name": "stdout",
     "output_type": "stream",
     "text": [
      "[[1 2 3]\n",
      " [4 5 1]]\n"
     ]
    }
   ],
   "source": [
    "var2 = np.array([1,2,3,4,5])\n",
    "y = np.resize(var2,(2,3))\n",
    "print(y)"
   ]
  },
  {
   "cell_type": "code",
   "execution_count": 4,
   "id": "2c577485-46a3-4455-bfa0-79a4513c6ae4",
   "metadata": {},
   "outputs": [
    {
     "data": {
      "text/plain": [
       "\"c = c_style\\nf = Fortran_style\\nA = Fortran * contigous in memory\\nk = flatten 'a'+\""
      ]
     },
     "execution_count": 4,
     "metadata": {},
     "output_type": "execute_result"
    }
   ],
   "source": [
    "'''c = c_style\n",
    "f = Fortran_style\n",
    "A = Fortran * contigous in memory\n",
    "k = flatten 'a'+'''"
   ]
  },
  {
   "cell_type": "code",
   "execution_count": 6,
   "id": "eaf4c892-3244-48a7-b360-7da49ed27467",
   "metadata": {},
   "outputs": [
    {
     "name": "stdout",
     "output_type": "stream",
     "text": [
      "Flatten:  [1 2 3 4 5 6]\n",
      "Ravel:  [1 2 3 4 5 6]\n"
     ]
    }
   ],
   "source": [
    "import numpy as np\n",
    "\n",
    "var2 = np.array([1, 2, 3, 4, 5, 6])\n",
    "print(\"Flatten: \", var2.flatten(order=\"F\"))\n",
    "print(\"Ravel: \", np.ravel(var2, order=\"K\"))\n"
   ]
  },
  {
   "cell_type": "code",
   "execution_count": null,
   "id": "f48171cc-fd53-425a-991d-653123a4cfb1",
   "metadata": {},
   "outputs": [],
   "source": []
  }
 ],
 "metadata": {
  "kernelspec": {
   "display_name": "Python 3 (ipykernel)",
   "language": "python",
   "name": "python3"
  },
  "language_info": {
   "codemirror_mode": {
    "name": "ipython",
    "version": 3
   },
   "file_extension": ".py",
   "mimetype": "text/x-python",
   "name": "python",
   "nbconvert_exporter": "python",
   "pygments_lexer": "ipython3",
   "version": "3.10.6"
  }
 },
 "nbformat": 4,
 "nbformat_minor": 5
}
