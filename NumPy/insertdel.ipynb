{
 "cells": [
  {
   "cell_type": "code",
   "execution_count": 2,
   "id": "15f26e40-5189-4dc4-8d01-152cc77b0b62",
   "metadata": {},
   "outputs": [
    {
     "name": "stdout",
     "output_type": "stream",
     "text": [
      "[1 2 3 4]\n",
      "[ 1  2 22  3  4]\n"
     ]
    }
   ],
   "source": [
    "import numpy as np\n",
    "\n",
    "zx=np.array([1,2,3,4])\n",
    "print(zx)\n",
    "\n",
    "zx = np.insert (zx, 2, 22)\n",
    "print(zx)\n"
   ]
  },
  {
   "cell_type": "code",
   "execution_count": 3,
   "id": "e9c55039-fde4-4bf8-9f17-075e5dfa9ed4",
   "metadata": {},
   "outputs": [
    {
     "name": "stdout",
     "output_type": "stream",
     "text": [
      "[[1 2 6 3]\n",
      " [1 2 6 3]]\n"
     ]
    }
   ],
   "source": [
    "var1 = np.array([[1,2,3],[1,2,3]])\n",
    "v1 = np.insert(var1,2,6,axis=1)\n",
    "print(v1)"
   ]
  },
  {
   "cell_type": "code",
   "execution_count": 9,
   "id": "b39f4490-679c-465d-ac0d-b9a638b9d917",
   "metadata": {},
   "outputs": [
    {
     "name": "stdout",
     "output_type": "stream",
     "text": [
      "[1.  2.  3.  4.  6.5]\n",
      "[[25 22]\n",
      " [30 28]]\n"
     ]
    }
   ],
   "source": [
    "var2 = np.array([1,2,3,4])\n",
    "x = np.append(var2,6.5)\n",
    "print(x)\n",
    "\n",
    "\n",
    "x2 = np.append([[25, 22]], [[30, 28]], axis=0)\n",
    "print(x2)\n"
   ]
  },
  {
   "cell_type": "code",
   "execution_count": 10,
   "id": "e142c49d-e137-4d64-bf14-37d1a97ebea4",
   "metadata": {},
   "outputs": [
    {
     "name": "stdout",
     "output_type": "stream",
     "text": [
      "[1 2 3 4]\n",
      "[1 2 4]\n"
     ]
    }
   ],
   "source": [
    "var1 = np.array([1,2,3,4])\n",
    "print(var1)\n",
    "d = np.delete(var1,2)\n",
    "print(d)"
   ]
  },
  {
   "cell_type": "code",
   "execution_count": null,
   "id": "192720e9-3e49-48d9-85e7-de60c6648381",
   "metadata": {},
   "outputs": [],
   "source": []
  }
 ],
 "metadata": {
  "kernelspec": {
   "display_name": "Python 3 (ipykernel)",
   "language": "python",
   "name": "python3"
  },
  "language_info": {
   "codemirror_mode": {
    "name": "ipython",
    "version": 3
   },
   "file_extension": ".py",
   "mimetype": "text/x-python",
   "name": "python",
   "nbconvert_exporter": "python",
   "pygments_lexer": "ipython3",
   "version": "3.10.6"
  }
 },
 "nbformat": 4,
 "nbformat_minor": 5
}
