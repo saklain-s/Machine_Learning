{
 "cells": [
  {
   "cell_type": "code",
   "execution_count": 6,
   "id": "bbf7b9cd-cd77-4955-a55e-4af286b98559",
   "metadata": {},
   "outputs": [
    {
     "name": "stdout",
     "output_type": "stream",
     "text": [
      "[0.06865139 0.22120876 0.18603817 0.06049682]\n"
     ]
    }
   ],
   "source": [
    "import numpy as np\n",
    "vaar = np.random.rand(4)\n",
    "print(vaar)"
   ]
  },
  {
   "cell_type": "code",
   "execution_count": 5,
   "id": "b64c25fe-6aa0-4747-a993-cc71c47e5e50",
   "metadata": {},
   "outputs": [
    {
     "name": "stdout",
     "output_type": "stream",
     "text": [
      "[0.67004199 0.82052891 0.99361772 0.78881483 0.99585539 0.67149405\n",
      " 0.20003525]\n"
     ]
    }
   ],
   "source": [
    "vaar = np.random.rand(7)\n",
    "print(vaar)"
   ]
  },
  {
   "cell_type": "code",
   "execution_count": 9,
   "id": "850bf881-2f33-4b7c-a69d-bec378173c4c",
   "metadata": {},
   "outputs": [
    {
     "name": "stdout",
     "output_type": "stream",
     "text": [
      "[[ 1.60088273 -1.11161766 -0.18277892 -0.63309011 -1.08110281]\n",
      " [-0.15591666  0.06997767 -2.09205028 -0.60691382  1.95396327]]\n"
     ]
    }
   ],
   "source": [
    "var = np.random.randn(2,5)\n",
    "print(var)"
   ]
  },
  {
   "cell_type": "code",
   "execution_count": 2,
   "id": "bc50cb1d-844b-45d2-afc8-47499df79cab",
   "metadata": {},
   "outputs": [
    {
     "name": "stdout",
     "output_type": "stream",
     "text": [
      "[ 1.55096899 -1.34437913 -1.24219857  0.14479512  0.61886749]\n"
     ]
    }
   ],
   "source": [
    "\n",
    "var1 = np.random.randn(5)\n",
    "\n",
    "print(var1)"
   ]
  },
  {
   "cell_type": "code",
   "execution_count": 15,
   "id": "d96d3ca1-997f-4dd0-a9e2-9eb28b5017e5",
   "metadata": {},
   "outputs": [
    {
     "name": "stdout",
     "output_type": "stream",
     "text": [
      "\n"
     ]
    },
    {
     "name": "stdin",
     "output_type": "stream",
     "text": [
      "enter a value 5\n"
     ]
    },
    {
     "name": "stdout",
     "output_type": "stream",
     "text": [
      "\n",
      "[0.12456709 0.86229888 0.35011653 0.06922281 0.57617347]\n"
     ]
    }
   ],
   "source": [
    "print()\n",
    "x = int(input(\"enter a value\"))\n",
    "print()\n",
    "var2 = np.random.ranf(x)\n",
    "print(var2)"
   ]
  },
  {
   "cell_type": "code",
   "execution_count": 8,
   "id": "e4f193b3-eec2-4d58-8226-d5c1d058763b",
   "metadata": {},
   "outputs": [
    {
     "name": "stdout",
     "output_type": "stream",
     "text": [
      "[9 2 5 5 2 6 8 9 1 8]\n"
     ]
    }
   ],
   "source": [
    "var3 = np.random.randint(1,10,10)\n",
    "print(var3)"
   ]
  },
  {
   "cell_type": "code",
   "execution_count": 16,
   "id": "d74f30ef-c8aa-4bc2-9731-2f4ae8c37253",
   "metadata": {},
   "outputs": [
    {
     "name": "stdout",
     "output_type": "stream",
     "text": [
      "[12 32 15 10 25 71 78 84 18 23 52 81 71 34 30 45 65 26  3 15  7 68 39 49\n",
      " 56 80 66  2 99 13 53 54 90 41 67 38 86 34 13 80 10 39 60 74  4 46 30  2\n",
      " 98 78]\n"
     ]
    }
   ],
   "source": [
    "var3 = np.random.randint(1,100,50)\n",
    "print(var3)"
   ]
  },
  {
   "cell_type": "code",
   "execution_count": null,
   "id": "f46167e2-01d3-47b7-8c95-c11db78d21a3",
   "metadata": {},
   "outputs": [],
   "source": []
  }
 ],
 "metadata": {
  "kernelspec": {
   "display_name": "Python 3 (ipykernel)",
   "language": "python",
   "name": "python3"
  },
  "language_info": {
   "codemirror_mode": {
    "name": "ipython",
    "version": 3
   },
   "file_extension": ".py",
   "mimetype": "text/x-python",
   "name": "python",
   "nbconvert_exporter": "python",
   "pygments_lexer": "ipython3",
   "version": "3.10.6"
  }
 },
 "nbformat": 4,
 "nbformat_minor": 5
}
