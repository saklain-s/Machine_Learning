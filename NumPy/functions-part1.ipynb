{
 "cells": [
  {
   "cell_type": "code",
   "execution_count": 7,
   "id": "3afc8403-d438-4425-b609-046bb68cceb1",
   "metadata": {},
   "outputs": [
    {
     "name": "stdout",
     "output_type": "stream",
     "text": [
      "(array([1, 4, 6], dtype=int64),)\n"
     ]
    }
   ],
   "source": [
    "import numpy as np\n",
    "var = np.array([1,2,3,4,2,5,2,5,6,7,3])\n",
    "x = np.where(var==2)\n",
    "print(x)"
   ]
  },
  {
   "cell_type": "code",
   "execution_count": 8,
   "id": "90fe4d7d-96f4-402d-9ab4-ed2beb4e36c6",
   "metadata": {},
   "outputs": [
    {
     "name": "stdout",
     "output_type": "stream",
     "text": [
      "(array([1, 3, 4, 6, 8], dtype=int64),)\n"
     ]
    }
   ],
   "source": [
    "var = np.array([1,2,3,4,2,5,2,5,6,7,3])\n",
    "x = np.where((var%2)==0)\n",
    "print(x)"
   ]
  },
  {
   "cell_type": "code",
   "execution_count": 11,
   "id": "f5bbd4b9-91bb-4caa-a8d1-f7d886055411",
   "metadata": {},
   "outputs": [
    {
     "name": "stdout",
     "output_type": "stream",
     "text": [
      "4\n"
     ]
    }
   ],
   "source": [
    "var1 = np.array([1,2,3,4,5,6,7,8])\n",
    "x1 = np.searchsorted(var1,5)\n",
    "print(x1)"
   ]
  },
  {
   "cell_type": "code",
   "execution_count": 13,
   "id": "2198b191-2140-4666-8a77-f74031b59de1",
   "metadata": {},
   "outputs": [
    {
     "name": "stdout",
     "output_type": "stream",
     "text": [
      "5 \n",
      " [4 5 6]\n"
     ]
    }
   ],
   "source": [
    "x1 = np.searchsorted(var1,5,side=\"right\")\n",
    "x2 = np.searchsorted(var1,[5,6,7])\n",
    "print(x1,\"\\n\",x2)"
   ]
  },
  {
   "cell_type": "code",
   "execution_count": 14,
   "id": "64538d29-c144-4e41-afb9-e10505f1d6a1",
   "metadata": {},
   "outputs": [
    {
     "name": "stdout",
     "output_type": "stream",
     "text": [
      "[ 1  2  3  4  5  6  7 12 22 52]\n"
     ]
    }
   ],
   "source": [
    "var1 = np.array([4,2,3,1,12,5,22,52,6,7])\n",
    "print(np.sort(var1))"
   ]
  },
  {
   "cell_type": "code",
   "execution_count": 15,
   "id": "3aff1551-d68c-4f37-b03b-136fc3649ba9",
   "metadata": {},
   "outputs": [
    {
     "name": "stdout",
     "output_type": "stream",
     "text": [
      "['a' 'b' 'e' 's' 'z']\n"
     ]
    }
   ],
   "source": [
    "var2 = np.array([\"z\",\"a\",\"e\",\"b\",\"s\"])\n",
    "print(np.sort(var2))"
   ]
  },
  {
   "cell_type": "code",
   "execution_count": 16,
   "id": "61577a6a-d9d4-40b6-84f4-a989a8eb91fd",
   "metadata": {},
   "outputs": [
    {
     "name": "stdout",
     "output_type": "stream",
     "text": [
      "[[ 2  4  4]\n",
      " [ 1  5 12]\n",
      " [ 6 22 52]]\n"
     ]
    }
   ],
   "source": [
    "var=np.array([[4,2,4],[1,12,5],[22,52,6]])\n",
    "print(np.sort(var))"
   ]
  },
  {
   "cell_type": "code",
   "execution_count": 17,
   "id": "5de8b95d-b816-4487-b2fd-d1e6f97b74aa",
   "metadata": {},
   "outputs": [
    {
     "name": "stdout",
     "output_type": "stream",
     "text": [
      "['a' 'd']\n"
     ]
    }
   ],
   "source": [
    "var = np.array([\"a\",\"b\",\"c\",\"d\"])\n",
    "f = [True,False,False,True]\n",
    "x = var[f]\n",
    "print(x)"
   ]
  },
  {
   "cell_type": "code",
   "execution_count": 18,
   "id": "37f47c49-330d-4ba2-91fe-9f2c0b17d8ef",
   "metadata": {},
   "outputs": [
    {
     "name": "stdout",
     "output_type": "stream",
     "text": [
      "(array([ 1,  2,  3,  4,  5,  6,  7, 12, 22, 52]), array([3, 1, 2, 0, 5, 8, 9, 4, 6, 7], dtype=int64))\n"
     ]
    }
   ],
   "source": []
  },
  {
   "cell_type": "code",
   "execution_count": null,
   "id": "7330761c-cb4a-473a-80fe-cf45fd987110",
   "metadata": {},
   "outputs": [],
   "source": []
  }
 ],
 "metadata": {
  "kernelspec": {
   "display_name": "Python 3 (ipykernel)",
   "language": "python",
   "name": "python3"
  },
  "language_info": {
   "codemirror_mode": {
    "name": "ipython",
    "version": 3
   },
   "file_extension": ".py",
   "mimetype": "text/x-python",
   "name": "python",
   "nbconvert_exporter": "python",
   "pygments_lexer": "ipython3",
   "version": "3.10.6"
  }
 },
 "nbformat": 4,
 "nbformat_minor": 5
}
