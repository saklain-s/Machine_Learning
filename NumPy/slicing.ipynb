{
 "cells": [
  {
   "cell_type": "code",
   "execution_count": 1,
   "id": "3afc8403-d438-4425-b609-046bb68cceb1",
   "metadata": {},
   "outputs": [
    {
     "name": "stdout",
     "output_type": "stream",
     "text": [
      "Original 1D array: [10 20 30 40 50]\n",
      "Sliced 1D array: [20 30 40]\n"
     ]
    }
   ],
   "source": [
    "import numpy as np\n",
    "\n",
    "# Create a 1D array\n",
    "arr_1d = np.array([10, 20, 30, 40, 50])\n",
    "\n",
    "# Slice elements from index 1 to 3 (exclusive)\n",
    "slice_1d = arr_1d[1:4]\n",
    "\n",
    "print(\"Original 1D array:\", arr_1d)\n",
    "print(\"Sliced 1D array:\", slice_1d)\n"
   ]
  },
  {
   "cell_type": "code",
   "execution_count": 2,
   "id": "20d09332-732d-4f75-9018-ebbeee91415a",
   "metadata": {},
   "outputs": [
    {
     "name": "stdout",
     "output_type": "stream",
     "text": [
      "Original 2D array:\n",
      "[[1 2 3]\n",
      " [4 5 6]\n",
      " [7 8 9]]\n",
      "Sliced 2D array:\n",
      "[[1 2]\n",
      " [4 5]]\n"
     ]
    }
   ],
   "source": [
    "import numpy as np\n",
    "\n",
    "# Create a 2D array\n",
    "arr_2d = np.array([[1, 2, 3], \n",
    "                   [4, 5, 6], \n",
    "                   [7, 8, 9]])\n",
    "\n",
    "# Slice the first two rows and the first two columns\n",
    "slice_2d = arr_2d[:2, :2]\n",
    "\n",
    "print(\"Original 2D array:\")\n",
    "print(arr_2d)\n",
    "print(\"Sliced 2D array:\")\n",
    "print(slice_2d)\n"
   ]
  },
  {
   "cell_type": "code",
   "execution_count": 3,
   "id": "644901d2-c727-4d35-9931-1df509499ed7",
   "metadata": {},
   "outputs": [
    {
     "name": "stdout",
     "output_type": "stream",
     "text": [
      "Original 3D array:\n",
      "[[[ 1  2  3]\n",
      "  [ 4  5  6]]\n",
      "\n",
      " [[ 7  8  9]\n",
      "  [10 11 12]]\n",
      "\n",
      " [[13 14 15]\n",
      "  [16 17 18]]]\n",
      "Sliced 3D array:\n",
      "[[[ 1  2]\n",
      "  [ 4  5]]\n",
      "\n",
      " [[ 7  8]\n",
      "  [10 11]]]\n"
     ]
    }
   ],
   "source": [
    "import numpy as np\n",
    "\n",
    "# Create a 3D array\n",
    "arr_3d = np.array([[[ 1,  2,  3], \n",
    "                    [ 4,  5,  6]],\n",
    "\n",
    "                   [[ 7,  8,  9], \n",
    "                    [10, 11, 12]],\n",
    "\n",
    "                   [[13, 14, 15], \n",
    "                    [16, 17, 18]]])\n",
    "\n",
    "# Slice the first two layers, all rows, and the first two columns\n",
    "slice_3d = arr_3d[:2, :, :2]\n",
    "\n",
    "print(\"Original 3D array:\")\n",
    "print(arr_3d)\n",
    "print(\"Sliced 3D array:\")\n",
    "print(slice_3d)\n"
   ]
  },
  {
   "cell_type": "code",
   "execution_count": null,
   "id": "5c809ed5-981e-4e40-99d4-39a423c6bfed",
   "metadata": {},
   "outputs": [],
   "source": []
  }
 ],
 "metadata": {
  "kernelspec": {
   "display_name": "Python 3 (ipykernel)",
   "language": "python",
   "name": "python3"
  },
  "language_info": {
   "codemirror_mode": {
    "name": "ipython",
    "version": 3
   },
   "file_extension": ".py",
   "mimetype": "text/x-python",
   "name": "python",
   "nbconvert_exporter": "python",
   "pygments_lexer": "ipython3",
   "version": "3.10.6"
  }
 },
 "nbformat": 4,
 "nbformat_minor": 5
}
