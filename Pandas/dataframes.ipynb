{
 "cells": [
  {
   "cell_type": "code",
   "execution_count": 8,
   "id": "95542de5-6c30-4ab1-8f96-7f24edbaf835",
   "metadata": {},
   "outputs": [],
   "source": [
    "import pandas as pd "
   ]
  },
  {
   "cell_type": "code",
   "execution_count": 2,
   "id": "c09f1a7b-a945-40e3-a728-fba1c228c805",
   "metadata": {},
   "outputs": [
    {
     "name": "stdout",
     "output_type": "stream",
     "text": [
      "[1, 2, 3, 4, 5]\n"
     ]
    }
   ],
   "source": [
    "l = [1,2,3,4,5]\n",
    "var = pd.DataFrame(l)\n",
    "print(l)"
   ]
  },
  {
   "cell_type": "code",
   "execution_count": 12,
   "id": "040ae910-47c7-451c-87ba-1d2395ea53e2",
   "metadata": {},
   "outputs": [
    {
     "data": {
      "text/html": [
       "<div>\n",
       "<style scoped>\n",
       "    .dataframe tbody tr th:only-of-type {\n",
       "        vertical-align: middle;\n",
       "    }\n",
       "\n",
       "    .dataframe tbody tr th {\n",
       "        vertical-align: top;\n",
       "    }\n",
       "\n",
       "    .dataframe thead th {\n",
       "        text-align: right;\n",
       "    }\n",
       "</style>\n",
       "<table border=\"1\" class=\"dataframe\">\n",
       "  <thead>\n",
       "    <tr style=\"text-align: right;\">\n",
       "      <th></th>\n",
       "      <th>a</th>\n",
       "      <th>1</th>\n",
       "    </tr>\n",
       "  </thead>\n",
       "  <tbody>\n",
       "    <tr>\n",
       "      <th>a</th>\n",
       "      <td>1</td>\n",
       "      <td>1</td>\n",
       "    </tr>\n",
       "    <tr>\n",
       "      <th>b</th>\n",
       "      <td>2</td>\n",
       "      <td>2</td>\n",
       "    </tr>\n",
       "    <tr>\n",
       "      <th>c</th>\n",
       "      <td>3</td>\n",
       "      <td>3</td>\n",
       "    </tr>\n",
       "    <tr>\n",
       "      <th>d</th>\n",
       "      <td>4</td>\n",
       "      <td>4</td>\n",
       "    </tr>\n",
       "    <tr>\n",
       "      <th>e</th>\n",
       "      <td>5</td>\n",
       "      <td>5</td>\n",
       "    </tr>\n",
       "  </tbody>\n",
       "</table>\n",
       "</div>"
      ],
      "text/plain": [
       "   a  1\n",
       "a  1  1\n",
       "b  2  2\n",
       "c  3  3\n",
       "d  4  4\n",
       "e  5  5"
      ]
     },
     "execution_count": 12,
     "metadata": {},
     "output_type": "execute_result"
    }
   ],
   "source": [
    "d = {\"a\":[1,2,3,4,5],\"s\":[1,2,3,4,5],\"d\":[1,2,3,4,5],1:[1,2,3,4,5]}\n",
    "var1 = pd.DataFrame(d,columns=[\"a\",1],index=[\"a\",\"b\",\"c\",\"d\",\"e\"])\n",
    "var1"
   ]
  },
  {
   "cell_type": "code",
   "execution_count": 24,
   "id": "3446fb00-bc5d-41e7-98de-192ddd089ae5",
   "metadata": {},
   "outputs": [
    {
     "name": "stdout",
     "output_type": "stream",
     "text": [
      "   a  s  d  1\n",
      "0  1  1  1  1\n",
      "1  2  2  2  2\n",
      "2  3  3  3  3\n",
      "3  4  4  4  4\n",
      "4  5  5  5  5\n",
      "value is 4\n"
     ]
    }
   ],
   "source": [
    "d = {\"a\":[1,2,3,4,5],\"s\":[1,2,3,4,5],\"d\":[1,2,3,4,5],1:[1,2,3,4,5]}\n",
    "var1 = pd.DataFrame(d)\n",
    "print(var1)\n",
    "print(\"value is\",var1[\"a\"][3])"
   ]
  },
  {
   "cell_type": "code",
   "execution_count": 22,
   "id": "0d2a6889-d6d6-45ca-815e-a70657f2ceaa",
   "metadata": {},
   "outputs": [
    {
     "name": "stdout",
     "output_type": "stream",
     "text": [
      "   0  1  2  3\n",
      "0  1  2  3  4\n",
      "1  1  2  3  4\n"
     ]
    }
   ],
   "source": [
    "list = [[1,2,3,4],[1,2,3,4]]\n",
    "var2=pd.DataFrame(list)\n",
    "print(var2)"
   ]
  },
  {
   "cell_type": "code",
   "execution_count": 26,
   "id": "69ad775e-b671-4680-8fe5-06d026750cdb",
   "metadata": {},
   "outputs": [
    {
     "name": "stdout",
     "output_type": "stream",
     "text": [
      "   s  r\n",
      "0  1  1\n",
      "1  2  2\n",
      "2  3  3\n",
      "3  4  4\n"
     ]
    }
   ],
   "source": [
    "sr = {\"s\":pd.Series([1,2,3,4]),\"r\":pd.Series([1,2,3,4])}\n",
    "vAR3 = pd.DataFrame(sr)\n",
    "print(vAR3)"
   ]
  },
  {
   "cell_type": "code",
   "execution_count": null,
   "id": "4e5f46dc-a1cb-45ea-8307-06c03607e8c3",
   "metadata": {},
   "outputs": [],
   "source": []
  }
 ],
 "metadata": {
  "kernelspec": {
   "display_name": "Python 3 (ipykernel)",
   "language": "python",
   "name": "python3"
  },
  "language_info": {
   "codemirror_mode": {
    "name": "ipython",
    "version": 3
   },
   "file_extension": ".py",
   "mimetype": "text/x-python",
   "name": "python",
   "nbconvert_exporter": "python",
   "pygments_lexer": "ipython3",
   "version": "3.10.6"
  }
 },
 "nbformat": 4,
 "nbformat_minor": 5
}
