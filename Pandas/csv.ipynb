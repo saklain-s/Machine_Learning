{
 "cells": [
  {
   "cell_type": "code",
   "execution_count": 2,
   "id": "0c47d029-044b-42bd-88e5-fa8f3e894a2f",
   "metadata": {},
   "outputs": [],
   "source": [
    "import pandas as pd"
   ]
  },
  {
   "cell_type": "code",
   "execution_count": 15,
   "id": "7ee21ff7-5e88-43d4-bd81-14fda714257e",
   "metadata": {},
   "outputs": [],
   "source": [
    "dis = {\"a\":[1,2,3,4,5],\"b\":[1,2,3,4,5],\"d\":[2,3,4,1,4]}\n",
    "d = pd.DataFrame(dis)\n",
    "d.to_csv(\"Test3.csv\",index=False,header=[\"Col1\",\"Col2\",\"Col3\"])"
   ]
  },
  {
   "cell_type": "code",
   "execution_count": null,
   "id": "212378f4-015a-4c63-ac4e-5efc342f8328",
   "metadata": {},
   "outputs": [],
   "source": []
  }
 ],
 "metadata": {
  "kernelspec": {
   "display_name": "Python 3 (ipykernel)",
   "language": "python",
   "name": "python3"
  },
  "language_info": {
   "codemirror_mode": {
    "name": "ipython",
    "version": 3
   },
   "file_extension": ".py",
   "mimetype": "text/x-python",
   "name": "python",
   "nbconvert_exporter": "python",
   "pygments_lexer": "ipython3",
   "version": "3.10.6"
  }
 },
 "nbformat": 4,
 "nbformat_minor": 5
}
